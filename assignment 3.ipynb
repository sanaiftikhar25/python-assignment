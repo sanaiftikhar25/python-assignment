{
 "cells": [
  {
   "cell_type": "code",
   "execution_count": 1,
   "metadata": {},
   "outputs": [
    {
     "name": "stdout",
     "output_type": "stream",
     "text": [
      "Enter 1st value3\n",
      "Enter 2nd value2\n",
      "Enter operator^\n",
      "9 answer\n"
     ]
    }
   ],
   "source": [
    "val1=int(input(\"Enter 1st value\"))\n",
    "val2=int(input(\"Enter 2nd value\"))\n",
    "operator=input(\"Enter operator\")\n",
    "if operator=='+':\n",
    "    val=val1+val2\n",
    "    print(val,\"answer\")\n",
    "elif operator=='-':\n",
    "    val=val1-val2\n",
    "    print(val,\"answer\")\n",
    "elif operator=='*':\n",
    "    val=val1*val2\n",
    "    print(val,\"answer\")\n",
    "elif operator=='/':\n",
    "    val=val1//val2\n",
    "    print(val,\"answer\")\n",
    "elif operator=='^':\n",
    "    val=val1**val2\n",
    "    print(val,'answer')\n",
    "else:\n",
    "    print(\"Wrong operator, enter correct operator\")"
   ]
  },
  {
   "cell_type": "code",
   "execution_count": 17,
   "metadata": {},
   "outputs": [
    {
     "name": "stdout",
     "output_type": "stream",
     "text": [
      "There is no numeric value\n",
      "There is a numeric value\n",
      "There is no numeric value\n",
      "There is no numeric value\n",
      "There is no numeric value\n"
     ]
    }
   ],
   "source": [
    "list=['sana',3,'67','false','two']\n",
    "for value in list:\n",
    "    if type(value) == int:\n",
    "        print(\"There is a numeric value\")\n",
    "    else:\n",
    "        print(\"There is no numeric value\")"
   ]
  },
  {
   "cell_type": "code",
   "execution_count": 20,
   "metadata": {},
   "outputs": [
    {
     "name": "stdout",
     "output_type": "stream",
     "text": [
      "{'first name': 'david', 'last name': 'elliott', 'address': '4803 wellesly st.', 'language': 'english'}\n"
     ]
    }
   ],
   "source": [
    "customer={\n",
    "    \"first name\":\"david\",\n",
    "    \"last name\":\"elliott\",\n",
    "    \"address\":\"4803 wellesly st.\"\n",
    "}\n",
    "customer[\"language\"]=\"english\"\n",
    "print(customer)"
   ]
  },
  {
   "cell_type": "code",
   "execution_count": 41,
   "metadata": {},
   "outputs": [
    {
     "name": "stdout",
     "output_type": "stream",
     "text": [
      "Sum is 25\n"
     ]
    }
   ],
   "source": [
    "dict={'a':10,'b':5,'c':10}\n",
    "print(\"Sum is\",sum(dict.values()))"
   ]
  },
  {
   "cell_type": "code",
   "execution_count": 37,
   "metadata": {},
   "outputs": [
    {
     "name": "stdout",
     "output_type": "stream",
     "text": [
      "2 Dublicated\n",
      "4 Dublicated\n",
      "5 Dublicated\n",
      "2 Dublicated\n",
      "4 Dublicated\n",
      "4 Dublicated\n",
      "4 Dublicated\n",
      "5 Dublicated\n"
     ]
    }
   ],
   "source": [
    "list=[2,4,3,5,2,4,7,4,8,4,5,9]\n",
    "for value in list:\n",
    "    if list.count(value)>1:\n",
    "        print(value,\"Dublicated\")"
   ]
  },
  {
   "cell_type": "code",
   "execution_count": 40,
   "metadata": {},
   "outputs": [
    {
     "name": "stdout",
     "output_type": "stream",
     "text": [
      "Enter key1\n",
      "Key Already exists\n",
      "Key doesnot exists\n"
     ]
    }
   ],
   "source": [
    "given_key=int(input(\"Enter key\"))\n",
    "dict={1:'name',2:'age',3:'height'}\n",
    "for key in dict.keys():\n",
    "    if key == given_key:\n",
    "        print(\"Key Already exists\")\n",
    "    else:\n",
    "        print(\"Key doesnot exists\")\n",
    "        break"
   ]
  }
 ],
 "metadata": {
  "kernelspec": {
   "display_name": "Python 3",
   "language": "python",
   "name": "python3"
  },
  "language_info": {
   "codemirror_mode": {
    "name": "ipython",
    "version": 3
   },
   "file_extension": ".py",
   "mimetype": "text/x-python",
   "name": "python",
   "nbconvert_exporter": "python",
   "pygments_lexer": "ipython3",
   "version": "3.7.4"
  }
 },
 "nbformat": 4,
 "nbformat_minor": 2
}
