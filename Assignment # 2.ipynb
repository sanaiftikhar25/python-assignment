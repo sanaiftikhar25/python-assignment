{
 "cells": [
  {
   "cell_type": "code",
   "execution_count": 7,
   "metadata": {},
   "outputs": [
    {
     "name": "stdout",
     "output_type": "stream",
     "text": [
      "Enter Maths marks90\n",
      "Enter english marks80\n",
      "Enter urdu marks90\n",
      "Enter chemistry marks89\n",
      "Enter physics marks90\n",
      "Total is: 439\n",
      "Percentage is: 87.8\n",
      "Grade:A+\n"
     ]
    }
   ],
   "source": [
    "maths=int(input(\"Enter Maths marks\"))\n",
    "english=int(input(\"Enter english marks\"))\n",
    "urdu=int(input(\"Enter urdu marks\"))\n",
    "chemistry=int(input(\"Enter chemistry marks\"))\n",
    "physics=int(input(\"Enter physics marks\"))\n",
    "total=maths+english+urdu+chemistry+physics\n",
    "print(\"Total is:\",total)\n",
    "per=(total/500)*100\n",
    "print(\"Percentage is:\",per)\n",
    "if per>=80 and per<=100:\n",
    "    print(\"Grade:A+\")\n",
    "elif per>=70 and per<80:\n",
    "    print(\"Grade:A\")\n",
    "elif per>=60 and per<70:\n",
    "    print(\"Grade:B\")\n",
    "elif per>=50 and per<60:\n",
    "    print(\"Grade:C\")\n",
    "elif per>=40 and per<50:\n",
    "    print(\"Grade:D\")\n",
    "elif per>=30 and per<40:\n",
    "    print(\"Grade:E\")\n",
    "elif per<30:\n",
    "    print(\"Grade: Fail\")\n",
    "else:\n",
    "    print(\"Inappropriate percentage\")"
   ]
  },
  {
   "cell_type": "code",
   "execution_count": 13,
   "metadata": {},
   "outputs": [
    {
     "name": "stdout",
     "output_type": "stream",
     "text": [
      "Enter number: 7\n",
      "The number is odd\n"
     ]
    }
   ],
   "source": [
    "num=int(input(\"Enter number: \"))\n",
    "rem=num%2\n",
    "if rem>0:\n",
    "    print(\"The number is odd\")\n",
    "else:\n",
    "    print(\"The number is even\")"
   ]
  },
  {
   "cell_type": "code",
   "execution_count": 15,
   "metadata": {},
   "outputs": [
    {
     "name": "stdout",
     "output_type": "stream",
     "text": [
      "Length of list is:  6\n"
     ]
    }
   ],
   "source": [
    "list=[\"sana\",\"ali\",5,25,\"asma\",0.6]\n",
    "length=len(list)\n",
    "print(\"Length of list is: \",length)"
   ]
  },
  {
   "cell_type": "code",
   "execution_count": 23,
   "metadata": {},
   "outputs": [
    {
     "name": "stdout",
     "output_type": "stream",
     "text": [
      "Sum of all numeric nos is:  45\n"
     ]
    }
   ],
   "source": [
    "list = [1,2,3,4,5,6,7,8,9]\n",
    "\n",
    "print(\"Sum of all numeric nos is: \",sum(list))\n",
    "\n"
   ]
  },
  {
   "cell_type": "code",
   "execution_count": 20,
   "metadata": {},
   "outputs": [
    {
     "name": "stdout",
     "output_type": "stream",
     "text": [
      "Largest no. from the list is:  19\n"
     ]
    }
   ],
   "source": [
    "list = [1,2,3,4,5,6,7,8,9,19,16]\n",
    "print(\"Largest no. from the list is: \",max(list))"
   ]
  },
  {
   "cell_type": "code",
   "execution_count": 21,
   "metadata": {},
   "outputs": [
    {
     "name": "stdout",
     "output_type": "stream",
     "text": [
      "1\n",
      "1\n",
      "2\n",
      "3\n"
     ]
    }
   ],
   "source": [
    "a = [1, 1, 2, 3, 5, 8, 13, 21, 34, 55, 89]\n",
    "for i in a:\n",
    "    if i<5:\n",
    "        print(i)\n",
    "\n"
   ]
  }
 ],
 "metadata": {
  "kernelspec": {
   "display_name": "Python 3",
   "language": "python",
   "name": "python3"
  },
  "language_info": {
   "codemirror_mode": {
    "name": "ipython",
    "version": 3
   },
   "file_extension": ".py",
   "mimetype": "text/x-python",
   "name": "python",
   "nbconvert_exporter": "python",
   "pygments_lexer": "ipython3",
   "version": "3.7.4"
  }
 },
 "nbformat": 4,
 "nbformat_minor": 2
}
