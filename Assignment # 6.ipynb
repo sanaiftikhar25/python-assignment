{
 "cells": [
  {
   "cell_type": "markdown",
   "metadata": {},
   "source": [
    "Question 1:\n",
    "Define Object Oriented Programming Language?\n",
    "\n",
    "Answer:\n",
    "Object oriented programming language (OOP) is a paradigm in which real world objects are each viewed as seperate entities having their own state which is modified only by built in procedures, called methods."
   ]
  },
  {
   "cell_type": "markdown",
   "metadata": {},
   "source": [
    "Question 2:\n",
    "List down the Benefits of OOP?\n",
    "\n",
    "Answer:\n",
    "1. The programming gets easy and efficient.\n",
    "2. The class is sharable, so codes can be reused.\n",
    "3. The productivity of programmer increases.\n",
    "4. Data is safe and secure with data abstraction.\n",
    "\n"
   ]
  },
  {
   "cell_type": "markdown",
   "metadata": {},
   "source": [
    "Question 3:\n",
    "Differentiate between function and method?\n",
    "\n",
    "Answer:\n",
    "Method is used within the class whereas functions are being used outside the class."
   ]
  },
  {
   "cell_type": "markdown",
   "metadata": {},
   "source": [
    "Question 4:\n",
    "Define the following terms:\n",
    "1. Class: It is a template or blue print about the capability of what an obect can do.\n",
    "2. Object: An object(instance) is an instantiation of a class. When class is defined, only the description for the object is defined. Therefore, no memory or storage is allocated.\n",
    "3. Attribute: The class attribute specifies one or more classnames for an element.\n",
    "4. Behavior: It means the funtionality of an attribute, how it behaves/ acts."
   ]
  },
  {
   "cell_type": "code",
   "execution_count": 7,
   "metadata": {},
   "outputs": [
    {
     "ename": "SyntaxError",
     "evalue": "invalid syntax (<ipython-input-7-f6aa99562376>, line 2)",
     "output_type": "error",
     "traceback": [
      "\u001b[1;36m  File \u001b[1;32m\"<ipython-input-7-f6aa99562376>\"\u001b[1;36m, line \u001b[1;32m2\u001b[0m\n\u001b[1;33m    def_init_(self, model, color, name, brand, gear):\u001b[0m\n\u001b[1;37m                                                     ^\u001b[0m\n\u001b[1;31mSyntaxError\u001b[0m\u001b[1;31m:\u001b[0m invalid syntax\n"
     ]
    }
   ],
   "source": [
    "class Car():\n",
    "    def_init_(self, model, color, name, brand, gear):\n",
    "        self.model=model\n",
    "        self.color=color\n",
    "        self.name=name\n",
    "        self.brand=brand\n",
    "        self.gear=gear\n",
    "car1=Car(new,red,mehran,suzuki,four)\n",
    "print(car1.model)\n",
    "print(car1.color)\n",
    "print(car1.name)\n",
    "print(car1.brand)\n",
    "print(car1.gear)\n",
    "print('\\n')\n",
    "\n",
    "car2=Car(new,black,city,honda,five)\n",
    "print(car2.model)\n",
    "print(car2.color)\n",
    "print(car2.name)\n",
    "print(car2.brand)\n",
    "print(car2.gear)\n",
    "print('\\n')\n",
    "\n",
    "car3=Car(old,gray,margala,suzuki,four)\n",
    "print(car3.model)\n",
    "print(car3.color)\n",
    "print(car3.name)\n",
    "print(car3.brand)\n",
    "print(car3.gear)\n",
    "print('\\n')\n",
    "\n",
    "car4=Car(new,silver,corolla,toyota,five)\n",
    "print(car4.model)\n",
    "print(car4.color)\n",
    "print(car4.name)\n",
    "print(car4.brand)\n",
    "print(car4.gear)\n",
    "print('\\n')\n",
    "\n",
    "car5=Car(new,golden,santro,suzuki,four)\n",
    "print(car5.model)\n",
    "print(car5.color)\n",
    "print(car5.name)\n",
    "print(car5.brand)\n",
    "print(car5.gear)\n",
    "print('\\n')\n",
    "\n",
    "        "
   ]
  }
 ],
 "metadata": {
  "kernelspec": {
   "display_name": "Python 3",
   "language": "python",
   "name": "python3"
  },
  "language_info": {
   "codemirror_mode": {
    "name": "ipython",
    "version": 3
   },
   "file_extension": ".py",
   "mimetype": "text/x-python",
   "name": "python",
   "nbconvert_exporter": "python",
   "pygments_lexer": "ipython3",
   "version": "3.7.4"
  }
 },
 "nbformat": 4,
 "nbformat_minor": 2
}
