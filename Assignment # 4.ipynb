{
 "cells": [
  {
   "cell_type": "code",
   "execution_count": 2,
   "metadata": {},
   "outputs": [
    {
     "name": "stdout",
     "output_type": "stream",
     "text": [
      "first_name : sana\n",
      "last_name : iftikhar\n",
      "age : 22\n",
      "city : Karachi\n",
      "\n",
      " add qualification \n",
      "\n",
      "first_name : sana\n",
      "last_name : iftikhar\n",
      "age : 22\n",
      "city : Karachi\n",
      "qualification : bachlors\n",
      "\n",
      " update qualification \n",
      "\n",
      "first_name : sana\n",
      "last_name : iftikhar\n",
      "age : 22\n",
      "city : Karachi\n",
      "qualification : masters\n"
     ]
    }
   ],
   "source": [
    "dict={\"first_name\":\"sana\",\"last_name\":\"iftikhar\",\"age\":\"22\",\"city\":\"Karachi\"}\n",
    "for key, value in dict.items():\n",
    "    print(key+\" : \"+value)\n",
    "print(\"\\n add qualification \\n\")\n",
    "dict[\"qualification\"]=\"bachlors\"\n",
    "for key, value in dict.items():\n",
    "    print(key+\" : \"+value)\n",
    "print(\"\\n update qualification \\n\")\n",
    "dict[\"qualification\"]=\"masters\"\n",
    "for key, value in dict.items():\n",
    "    print(key+\" : \"+value)"
   ]
  },
  {
   "cell_type": "code",
   "execution_count": 3,
   "metadata": {},
   "outputs": [
    {
     "name": "stdout",
     "output_type": "stream",
     "text": [
      "\n",
      "lahore\n",
      "\n",
      "country : pakistan\n",
      "population : 12189000\n",
      "fact : Lahore is the 2nd most populous city after karachi. Lahore is the capital city of the Pakistani province of Punjab.\n",
      "\n",
      "karachi\n",
      "\n",
      "country : pakistan\n",
      "population : 15742000\n",
      "fact : Karachi is the capital of pakistani province sindh. It is the most populous city in pakistan.\n",
      "\n",
      "islamabad\n",
      "\n",
      "country : pakistan\n",
      "population : 1095074\n",
      "fact : Islamabad is the Capital city of Pakistan\n"
     ]
    }
   ],
   "source": [
    "cities={\n",
    "    \"lahore\":{\n",
    "        \"country\":\"pakistan\",\n",
    "        \"population\":12189000,\n",
    "        \"fact\":\"Lahore is the 2nd most populous city after karachi. Lahore is the capital city of the Pakistani province of Punjab.\"\n",
    "    },\n",
    "    \"karachi\":{\n",
    "        \"country\":\"pakistan\",\n",
    "        \"population\":15742000,\n",
    "        \"fact\":\"Karachi is the capital of pakistani province sindh. It is the most populous city in pakistan.\"\n",
    "    },\n",
    "    \"islamabad\":{\n",
    "        \"country\":\"pakistan\",\n",
    "        \"population\":1095074,\n",
    "        \"fact\":\"Islamabad is the Capital city of Pakistan\"\n",
    "    }\n",
    "}\n",
    "for citykey,cityinfo in cities.items():\n",
    "    print(\"\\n\"+citykey+\"\\n\")\n",
    "    for city in cityinfo:\n",
    "        print(city+\" : \"+str(cityinfo[city]))"
   ]
  },
  {
   "cell_type": "code",
   "execution_count": null,
   "metadata": {},
   "outputs": [
    {
     "name": "stdout",
     "output_type": "stream",
     "text": [
      "Enter age : 12\n",
      "Ticket is 10$\n",
      "Are you want to take ticket y/n: y\n"
     ]
    }
   ],
   "source": [
    "flag='y'\n",
    "while flag!='n':\n",
    "    age=int(input(\"Enter age : \"))\n",
    "    if age>12:\n",
    "        print(\"Ticket is 15$\")\n",
    "    elif age>=3:\n",
    "        print(\"Ticket is 10$\")\n",
    "    else:\n",
    "        print(\"Ticket is free\")\n",
    "    flag=input(\"Are you want to take ticket y/n: \")"
   ]
  },
  {
   "cell_type": "code",
   "execution_count": 11,
   "metadata": {},
   "outputs": [
    {
     "name": "stdout",
     "output_type": "stream",
     "text": [
      "One of my favorite books is Alice in Wonderland.\n"
     ]
    }
   ],
   "source": [
    "def favorite_book(title):\n",
    "    print(title)\n",
    "book_title=\"One of my favorite books is Alice in Wonderland.\"\n",
    "if(len(book_title)!=0):\n",
    "    favorite_book(book_title)\n",
    "else:\n",
    "    print(\"Please populate the book title\")"
   ]
  },
  {
   "cell_type": "code",
   "execution_count": 12,
   "metadata": {},
   "outputs": [
    {
     "name": "stdout",
     "output_type": "stream",
     "text": [
      "Enter number between 1 and 30: 5\n",
      "Hidden number is greater\n",
      "\n",
      "Enter number between 1 and 30: 7\n",
      "Hidden number is greater\n",
      "\n",
      "Enter number between 1 and 30: 30\n",
      "Hidden number is Smaller\n",
      "\n"
     ]
    }
   ],
   "source": [
    "import random\n",
    "c=0\n",
    "rNumber=0\n",
    "while c<3:\n",
    "    rNumber=int(random.randrange(1,30))\n",
    "    userNumber=int(input(\"Enter number between 1 and 30: \"))\n",
    "    c=c+1\n",
    "    if rNumber>userNumber:\n",
    "        print(\"Hidden number is greater\\n\")\n",
    "    elif rNumber<userNumber:\n",
    "        print(\"Hidden number is Smaller\\n\")\n",
    "    else:\n",
    "        print(\"Hidden number is equal\\n\")"
   ]
  }
 ],
 "metadata": {
  "kernelspec": {
   "display_name": "Python 3",
   "language": "python",
   "name": "python3"
  },
  "language_info": {
   "codemirror_mode": {
    "name": "ipython",
    "version": 3
   },
   "file_extension": ".py",
   "mimetype": "text/x-python",
   "name": "python",
   "nbconvert_exporter": "python",
   "pygments_lexer": "ipython3",
   "version": "3.7.4"
  }
 },
 "nbformat": 4,
 "nbformat_minor": 2
}
